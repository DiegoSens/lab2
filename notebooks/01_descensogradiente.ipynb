{
 "cells": [
  {
   "cell_type": "markdown",
   "metadata": {
    "toc": true
   },
   "source": [
    "<h1>Tabla de contenidos<span class=\"tocSkip\"></span></h1>\n",
    "<div class=\"toc\"><ul class=\"toc-item\"><li><span><a href=\"#Lab1---Práctica-Descenso-del-gradiente\" data-toc-modified-id=\"Lab1---Práctica-Descenso-del-gradiente-1\">Lab1 - Práctica Descenso del gradiente</a></span><ul class=\"toc-item\"><li><span><a href=\"#Objetivo-de-la-práctica\" data-toc-modified-id=\"Objetivo-de-la-práctica-1.1\">Objetivo de la práctica</a></span></li><li><span><a href=\"#Librerías\" data-toc-modified-id=\"Librerías-1.2\">Librerías</a></span></li><li><span><a href=\"#Carga-del-dataset\" data-toc-modified-id=\"Carga-del-dataset-1.3\">Carga del dataset</a></span></li><li><span><a href=\"#Observación-del-dataframe\" data-toc-modified-id=\"Observación-del-dataframe-1.4\">Observación del dataframe</a></span></li><li><span><a href=\"#Ejercicio\" data-toc-modified-id=\"Ejercicio-1.5\">Ejercicio</a></span><ul class=\"toc-item\"><li><span><a href=\"#Definición-función-Sigmoide\" data-toc-modified-id=\"Definición-función-Sigmoide-1.5.1\">Definición función Sigmoide</a></span></li><li><span><a href=\"#Definición-de-función-de-coste\" data-toc-modified-id=\"Definición-de-función-de-coste-1.5.2\">Definición de función de coste</a></span></li><li><span><a href=\"#Definición-del-descenso-del-gradiente\" data-toc-modified-id=\"Definición-del-descenso-del-gradiente-1.5.3\">Definición del descenso del gradiente</a></span></li><li><span><a href=\"#Representación-gráfica\" data-toc-modified-id=\"Representación-gráfica-1.5.4\">Representación gráfica</a></span></li></ul></li></ul></li><li><span><a href=\"#Referencias\" data-toc-modified-id=\"Referencias-2\">Referencias</a></span></li></ul></div>"
   ]
  },
  {
   "cell_type": "markdown",
   "metadata": {},
   "source": [
    "# Lab1 - Práctica Descenso del gradiente\n",
    "\n",
    "##### Autor: Diego Senso González\n",
    "##### 13 de noviembre de 2020\n",
    "##### Asignatura: Machine Learning - Máster de Data Science para finanzas"
   ]
  },
  {
   "cell_type": "markdown",
   "metadata": {},
   "source": [
    "## Objetivo de la práctica\n",
    "El objetivo de la presente práctica es programar el descenso del gradiente en Python. Se tratará de representar la función de coste gráficamente, observando los valores que esta toma y cómo reacciona según el número de iteraciones que se incluyan posteriormente."
   ]
  },
  {
   "cell_type": "markdown",
   "metadata": {},
   "source": [
    "## Librerías"
   ]
  },
  {
   "cell_type": "code",
   "execution_count": 1,
   "metadata": {},
   "outputs": [],
   "source": [
    "import pandas as pd\n",
    "import numpy as np\n",
    "import matplotlib.pyplot as plt\n",
    "import seaborn as sns\n",
    "%matplotlib inline"
   ]
  },
  {
   "cell_type": "markdown",
   "metadata": {},
   "source": [
    "## Carga del dataset"
   ]
  },
  {
   "cell_type": "code",
   "execution_count": 2,
   "metadata": {},
   "outputs": [],
   "source": [
    "data = pd.read_csv(\"../data/data.csv\", delimiter=';')"
   ]
  },
  {
   "cell_type": "markdown",
   "metadata": {},
   "source": [
    "## Observación del dataframe"
   ]
  },
  {
   "cell_type": "markdown",
   "metadata": {},
   "source": [
    "Se realiza una breve observación del dataframe."
   ]
  },
  {
   "cell_type": "code",
   "execution_count": 3,
   "metadata": {},
   "outputs": [
    {
     "data": {
      "text/html": [
       "<div>\n",
       "<style scoped>\n",
       "    .dataframe tbody tr th:only-of-type {\n",
       "        vertical-align: middle;\n",
       "    }\n",
       "\n",
       "    .dataframe tbody tr th {\n",
       "        vertical-align: top;\n",
       "    }\n",
       "\n",
       "    .dataframe thead th {\n",
       "        text-align: right;\n",
       "    }\n",
       "</style>\n",
       "<table border=\"1\" class=\"dataframe\">\n",
       "  <thead>\n",
       "    <tr style=\"text-align: right;\">\n",
       "      <th></th>\n",
       "      <th>score-1</th>\n",
       "      <th>score-2</th>\n",
       "      <th>label</th>\n",
       "    </tr>\n",
       "  </thead>\n",
       "  <tbody>\n",
       "    <tr>\n",
       "      <th>0</th>\n",
       "      <td>34.623660</td>\n",
       "      <td>78.024693</td>\n",
       "      <td>0</td>\n",
       "    </tr>\n",
       "    <tr>\n",
       "      <th>1</th>\n",
       "      <td>30.286711</td>\n",
       "      <td>43.894998</td>\n",
       "      <td>0</td>\n",
       "    </tr>\n",
       "    <tr>\n",
       "      <th>2</th>\n",
       "      <td>35.847409</td>\n",
       "      <td>72.902198</td>\n",
       "      <td>0</td>\n",
       "    </tr>\n",
       "    <tr>\n",
       "      <th>3</th>\n",
       "      <td>60.182599</td>\n",
       "      <td>86.308552</td>\n",
       "      <td>1</td>\n",
       "    </tr>\n",
       "    <tr>\n",
       "      <th>4</th>\n",
       "      <td>79.032736</td>\n",
       "      <td>75.344376</td>\n",
       "      <td>1</td>\n",
       "    </tr>\n",
       "    <tr>\n",
       "      <th>...</th>\n",
       "      <td>...</td>\n",
       "      <td>...</td>\n",
       "      <td>...</td>\n",
       "    </tr>\n",
       "    <tr>\n",
       "      <th>95</th>\n",
       "      <td>83.489163</td>\n",
       "      <td>48.380286</td>\n",
       "      <td>1</td>\n",
       "    </tr>\n",
       "    <tr>\n",
       "      <th>96</th>\n",
       "      <td>42.261701</td>\n",
       "      <td>87.103851</td>\n",
       "      <td>1</td>\n",
       "    </tr>\n",
       "    <tr>\n",
       "      <th>97</th>\n",
       "      <td>99.315009</td>\n",
       "      <td>68.775409</td>\n",
       "      <td>1</td>\n",
       "    </tr>\n",
       "    <tr>\n",
       "      <th>98</th>\n",
       "      <td>55.340018</td>\n",
       "      <td>64.931938</td>\n",
       "      <td>1</td>\n",
       "    </tr>\n",
       "    <tr>\n",
       "      <th>99</th>\n",
       "      <td>74.775893</td>\n",
       "      <td>89.529813</td>\n",
       "      <td>1</td>\n",
       "    </tr>\n",
       "  </tbody>\n",
       "</table>\n",
       "<p>100 rows × 3 columns</p>\n",
       "</div>"
      ],
      "text/plain": [
       "      score-1    score-2  label\n",
       "0   34.623660  78.024693      0\n",
       "1   30.286711  43.894998      0\n",
       "2   35.847409  72.902198      0\n",
       "3   60.182599  86.308552      1\n",
       "4   79.032736  75.344376      1\n",
       "..        ...        ...    ...\n",
       "95  83.489163  48.380286      1\n",
       "96  42.261701  87.103851      1\n",
       "97  99.315009  68.775409      1\n",
       "98  55.340018  64.931938      1\n",
       "99  74.775893  89.529813      1\n",
       "\n",
       "[100 rows x 3 columns]"
      ]
     },
     "execution_count": 3,
     "metadata": {},
     "output_type": "execute_result"
    }
   ],
   "source": [
    "data"
   ]
  },
  {
   "cell_type": "markdown",
   "metadata": {},
   "source": [
    "El presente dataset está conformado por una serie de calificaciones y una variable categórica que toma valores 0 y 1. Cada observación es una combinación de dos calificaciones (Score-1 y Score-2), además de una indicación sobre si el alumno está admitido en la universidad o no. Concretamente, el dataset en cuestión cuenta con las siguientes variables:\n",
    "\n",
    "- Score-1. Hace referencia a puntuaciones o calificaciones.\n",
    "- Score-2. Puntuaciones o calificaciones, en el mismo sentido que Score-1.\n",
    "- Label. Variable categórica que toma el valor de 1 para señalar si el alumno está admitido y de 0 en caso de que no esté.\n",
    "\n",
    "Gracias a la función \"info\" se puede lograr más información relevante sobre el dataframe, como por ejemplo los tipos de datos, la presencia de valores nulos, o el número de observaciones, entre otros."
   ]
  },
  {
   "cell_type": "code",
   "execution_count": 4,
   "metadata": {},
   "outputs": [
    {
     "name": "stdout",
     "output_type": "stream",
     "text": [
      "<class 'pandas.core.frame.DataFrame'>\n",
      "RangeIndex: 100 entries, 0 to 99\n",
      "Data columns (total 3 columns):\n",
      " #   Column   Non-Null Count  Dtype  \n",
      "---  ------   --------------  -----  \n",
      " 0   score-1  100 non-null    float64\n",
      " 1   score-2  100 non-null    float64\n",
      " 2   label    100 non-null    int64  \n",
      "dtypes: float64(2), int64(1)\n",
      "memory usage: 2.5 KB\n"
     ]
    }
   ],
   "source": [
    "data.info()"
   ]
  },
  {
   "cell_type": "code",
   "execution_count": 5,
   "metadata": {},
   "outputs": [
    {
     "data": {
      "text/plain": [
       "score-1    0\n",
       "score-2    0\n",
       "label      0\n",
       "dtype: int64"
      ]
     },
     "execution_count": 5,
     "metadata": {},
     "output_type": "execute_result"
    }
   ],
   "source": [
    "data.isna().sum()"
   ]
  },
  {
   "cell_type": "markdown",
   "metadata": {},
   "source": [
    "Se confirma que no existen valores nulos o NA, por lo que se puede continuar con la práctica. A continuación, tratamos de ver cuántas observaciones y variables hay disponibles, además de ver cómo de grande es el dataset ante el que nos encontramos."
   ]
  },
  {
   "cell_type": "code",
   "execution_count": 6,
   "metadata": {},
   "outputs": [
    {
     "data": {
      "text/plain": [
       "((100, 3), 300)"
      ]
     },
     "execution_count": 6,
     "metadata": {},
     "output_type": "execute_result"
    }
   ],
   "source": [
    "data.shape, data.size"
   ]
  },
  {
   "cell_type": "markdown",
   "metadata": {},
   "source": [
    "Podemos también observar de forma gráfica las notas de Score-1 con respecto a Score-2. "
   ]
  },
  {
   "cell_type": "code",
   "execution_count": 22,
   "metadata": {},
   "outputs": [
    {
     "data": {
      "image/png": "[encoded data removed]",
      "text/plain": [
       "<Figure size 576x432 with 1 Axes>"
      ]
     },
     "metadata": {
      "needs_background": "light"
     },
     "output_type": "display_data"
    }
   ],
   "source": [
    "f, ax = plt.subplots(figsize=(8, 6))  #Tamaño del gráfico\n",
    "sns.scatterplot(x=data['score-1'],\n",
    "                y=data['score-2'],\n",
    "                sizes=(1, 8),\n",
    "                linewidth=0,\n",
    "                data=data)\n",
    "\n",
    "plt.xlabel(\"Score-1\")  #Títutlo del eje X.\n",
    "plt.ylabel(\"Score-2\")  #Títutlo del eje Y.\n",
    "plt.title(\"Gráfico: Puntos en Score-1 en relación a Socre-2\");\n",
    "#título del gráfico."
   ]
  },
  {
   "cell_type": "markdown",
   "metadata": {},
   "source": [
    "## Ejercicio\n",
    "Para comenzar, asignamos los valores de las columnas de calificaciones a un nuevo objeto. Hacemos lo propio con la variable categórica."
   ]
  },
  {
   "cell_type": "code",
   "execution_count": 8,
   "metadata": {},
   "outputs": [],
   "source": [
    "notas = data[['score-1', 'score-2']].values\n",
    "admitido = data['label'].values"
   ]
  },
  {
   "cell_type": "markdown",
   "metadata": {},
   "source": [
    "### Definición función Sigmoide"
   ]
  },
  {
   "cell_type": "markdown",
   "metadata": {},
   "source": [
    "En primer lugar, se procede a definir la función sigmoide. "
   ]
  },
  {
   "cell_type": "code",
   "execution_count": 9,
   "metadata": {},
   "outputs": [],
   "source": [
    "def funcion_sigmoide(x):\n",
    "    return 1 / (1 + np.exp(-x))"
   ]
  },
  {
   "cell_type": "markdown",
   "metadata": {},
   "source": [
    "### Definición de función de coste"
   ]
  },
  {
   "cell_type": "markdown",
   "metadata": {},
   "source": [
    "A continuación se define la función de coste, que será la que acabe quedando representada. El objetivo de la práctica es observar los diferentes valores que toma esta función para después estudiar con qué número de iteraciones observamos que comienza a descender. Será interesante, además, variar el número de iteraciones para observar a qué velocidad baja la función, y en qué punto ya el descenso es insignificante pese a introducir mayor número de iteraciones, o cuál es el número de iteraciones óptimas."
   ]
  },
  {
   "cell_type": "code",
   "execution_count": 10,
   "metadata": {},
   "outputs": [],
   "source": [
    "def funcion_coste(theta, x, y):\n",
    "    m = len(y) #Número de observaciones de Y.\n",
    "    prediccion_y = funcion_sigmoide(np.dot(x , theta)) #Predicción de Y dándole valores la función sigmoide anterior.\n",
    "    error = (y * np.log(prediccion_y)) + ((1 - y) * np.log(1 - prediccion_y)) #Cálculo del error\n",
    "    coste = -1 / m * sum(error) #Cálculo del coste\n",
    "    gradiente = 1 / m * np.dot(x.transpose(), (prediccion_y - y)) #Gradiente\n",
    "    return coste[0] , gradiente #La función devuelve los valores del coste y del gradiente en ese momento."
   ]
  },
  {
   "cell_type": "markdown",
   "metadata": {},
   "source": [
    "En este punto hay que calcular el valor de la función de coste al inicio que luego se debe minimizar."
   ]
  },
  {
   "cell_type": "code",
   "execution_count": 11,
   "metadata": {},
   "outputs": [
    {
     "name": "stdout",
     "output_type": "stream",
     "text": [
      "Coste al inicio: 0.693147180559946\n",
      "Gradiente al inicio: [[-0.1       ]\n",
      " [-0.28122914]\n",
      " [-0.25098615]]\n"
     ]
    }
   ],
   "source": [
    "mean_notas = np.mean(notas, axis=0) #Media\n",
    "std_notas = np.std(notas, axis=0) #Desviación Típica\n",
    "notas = (notas - mean_notas) / std_notas #Estandarización\n",
    "\n",
    "filas = notas.shape[0]\n",
    "columnas = notas.shape[1]\n",
    "\n",
    "X = np.append(np.ones((filas, 1)), notas, axis=1) #Se define el valor de X y de y\n",
    "y = admitido.reshape(filas, 1)\n",
    "\n",
    "theta_init = np.zeros((columnas + 1, 1)) #Creación de theta inicialcon valores de 0. \n",
    "coste, gradiente = funcion_coste(theta_init, X, y) #la función de costes da valors tanto al coste como al gradiente que \n",
    "#inicialmente se habían definido, pero que verán sus valores cambiar por la función de coste. Nos da el coste al inicio\n",
    "#y el valor del gradiente.\n",
    "\n",
    "print(\"Coste al inicio:\", coste) #Da el resultado del coste inicial.\n",
    "print(\"Gradiente al inicio:\", gradiente) #Da el resultado del gradiente al inicio."
   ]
  },
  {
   "cell_type": "markdown",
   "metadata": {},
   "source": [
    "El resultado da el valor de coste inicial de la función que se tratará de minimizar, además de los valores del gradiente en el momento inicial."
   ]
  },
  {
   "cell_type": "markdown",
   "metadata": {},
   "source": [
    "### Definición del descenso del gradiente"
   ]
  },
  {
   "cell_type": "markdown",
   "metadata": {},
   "source": [
    "El descenso del gradiente es una herramienta que sirve para optimizar los resultados de un algoritmo. En este caso, lo que se tratará de minimizar es la función de coste, la cual previamente se ha definido. Para observar esta minimización, posteriormente se ofrecerá una representación gráfica de la función a reducir."
   ]
  },
  {
   "cell_type": "code",
   "execution_count": 12,
   "metadata": {},
   "outputs": [],
   "source": [
    "def gradiente (x, y, theta, alpha, iterations):\n",
    "    costs = []\n",
    "    for i in range(iterations):\n",
    "        cost, gradient = funcion_coste(theta, x, y) #La función de costes da valores tanto al coste como al dato del gradiente.\n",
    "        theta -= (alpha * gradient) \n",
    "        costs.append(cost)\n",
    "    return theta, costs #Devuelve los valores de theta y coste, que se asignarán para poder pintas después la gráfica."
   ]
  },
  {
   "cell_type": "markdown",
   "metadata": {},
   "source": [
    "### Representación gráfica"
   ]
  },
  {
   "cell_type": "markdown",
   "metadata": {},
   "source": [
    "Una vez definidas las funciones necesarias, para realizar la representación damos valores a alpha y a las iteraciones que se deseen incluir. En este caso, serán 100. Estos valores determinarán tanto el valor que adquiere theta como el coste, definido anteriormente en la función del gradiente."
   ]
  },
  {
   "cell_type": "code",
   "execution_count": 13,
   "metadata": {},
   "outputs": [],
   "source": [
    "#Con 100 iteraciones.\n",
    "theta, costs = gradiente(X, y, theta_init, 1, 100) #Valores de alpha e iteraciones para sar valores a theta y al coste."
   ]
  },
  {
   "cell_type": "markdown",
   "metadata": {},
   "source": [
    "Al realizar la representación gráfica, se pueden observar claramente los valores que va tomando la función de coste para cada una de las iteraciones que se van introduciendo. Asimismo, se puede percibir el momento en el que la curva comienza a descender. De cara a obtener una estimación de cuántas iteraciones son las óptimas, habrá que ir probando a introducir un número determinado de iteraciones, y ver cómo se comporta la curva. Las iteraciones óptimas son entendidas como un punto en el que la función de coste ya haya descendido tanto que a pesar de seguir añadiendo iteraciones la caída es residual e insignificante."
   ]
  },
  {
   "cell_type": "code",
   "execution_count": 14,
   "metadata": {},
   "outputs": [
    {
     "data": {
      "text/plain": [
       "Text(0.5, 1.0, 'Gráfico 1: Valor de la función de coste en función del número de iteraciones')"
      ]
     },
     "execution_count": 14,
     "metadata": {},
     "output_type": "execute_result"
    },
    {
     "data": {
      "image/png": "[encoded data removed]",
      "text/plain": [
       "<Figure size 720x576 with 1 Axes>"
      ]
     },
     "metadata": {
      "needs_background": "light"
     },
     "output_type": "display_data"
    }
   ],
   "source": [
    "f, ax = plt.subplots(figsize=(10, 8))  #Tamaño del gráfico\n",
    "plt.plot(costs, color=\"blue\")  #Contrucción a partir del objeto de coste\n",
    "\n",
    "plt.xlabel(\"Iteraciones\")  #Títutlo del eje X.\n",
    "plt.ylabel(\"Valor de la función de coste\")  #Título del eje Y.\n",
    "plt.title(\"Gráfico 1: Valor de la función de coste en función del número de iteraciones\")\n",
    "#Título del gráfico."
   ]
  },
  {
   "cell_type": "markdown",
   "metadata": {},
   "source": [
    "En este caso, al introducir 100 iteraciones se ve a la función descender claramente. Sin embargo, parece que con 100 iteraciones aún no ha caído del todo, por lo que pueden añadirse más iteraciones y observar cómo se comporta la gráfica. Por ello, se puede probar aumentando el número de iteraciones."
   ]
  },
  {
   "cell_type": "code",
   "execution_count": 15,
   "metadata": {},
   "outputs": [],
   "source": [
    "#Con 1000 iteraciones\n",
    "theta, costs = gradiente(X, y, theta_init, 1, 1000)"
   ]
  },
  {
   "cell_type": "code",
   "execution_count": 16,
   "metadata": {},
   "outputs": [
    {
     "data": {
      "image/png": "[encoded data removed]",
      "text/plain": [
       "<Figure size 720x576 with 1 Axes>"
      ]
     },
     "metadata": {
      "needs_background": "light"
     },
     "output_type": "display_data"
    }
   ],
   "source": [
    "f, ax = plt.subplots(figsize=(10, 8))\n",
    "plt.plot(costs, color=\"red\")\n",
    "\n",
    "plt.xlabel(\"Iteraciones\")\n",
    "plt.ylabel(\"Valor de la función de coste\")\n",
    "plt.title(\"Gráfico 2: Valor de la función de coste en función del número de iteraciones\");"
   ]
  },
  {
   "cell_type": "markdown",
   "metadata": {},
   "source": [
    "Como se puede sustraer del gráfico anterior, 1000 iteraciones es excesivo, pues la función de coste cae mucho antes. Entre el valor 300 y 400 parece que alcanza un punto desde el que no desciende significativamente después. Por ello, probaremos ahora con 400 iteraciones, pues parecen más que suficientes para observar la caída de la función de coste."
   ]
  },
  {
   "cell_type": "code",
   "execution_count": 17,
   "metadata": {},
   "outputs": [],
   "source": [
    "#Con 450 iteraciones\n",
    "theta, costs = gradiente(X, y, theta_init, 1, 450)"
   ]
  },
  {
   "cell_type": "code",
   "execution_count": 18,
   "metadata": {},
   "outputs": [
    {
     "data": {
      "text/plain": [
       "Text(0.5, 1.0, 'Gráfico 2: Valor de la función de coste en función del número de iteraciones')"
      ]
     },
     "execution_count": 18,
     "metadata": {},
     "output_type": "execute_result"
    },
    {
     "data": {
      "image/png": "[encoded data removed]",
      "text/plain": [
       "<Figure size 720x576 with 1 Axes>"
      ]
     },
     "metadata": {
      "needs_background": "light"
     },
     "output_type": "display_data"
    }
   ],
   "source": [
    "f, ax = plt.subplots(figsize=(10, 8))\n",
    "plt.plot(costs, color=\"green\")\n",
    "\n",
    "plt.xlabel(\"Iteraciones\")\n",
    "plt.ylabel(\"Valor de la función de coste\")\n",
    "plt.title(\"Gráfico 2: Valor de la función de coste en función del número de iteraciones\")"
   ]
  },
  {
   "cell_type": "markdown",
   "metadata": {},
   "source": [
    "Y teniendo esto, se puede calcular el valor más bajo de la función de coste. El dato es el siguiente:"
   ]
  },
  {
   "cell_type": "code",
   "execution_count": 19,
   "metadata": {},
   "outputs": [
    {
     "name": "stdout",
     "output_type": "stream",
     "text": [
      "Resultado del coste: 0.20349770174443152\n"
     ]
    }
   ],
   "source": [
    "print(\"Resultado del coste:\", costs[-1]) #Ofrece el valor del coste más bajo con esos datos."
   ]
  },
  {
   "cell_type": "markdown",
   "metadata": {},
   "source": [
    "Para contrastar, también se puede modificar el parámetro alpha, que representa la tasa de aprendizaje del algoritmo. Esto haría que los \"pasos\" que se dan en cada iteración fueran más grandes, aumentando lo que sería la learning rate o tasa de aprendizaje. Por lo tanto, cabe pensar en que a mayor alpha se especifique, menor número de iteraciones serán necesarias ya que el algoritmo aprenderá más rápido."
   ]
  },
  {
   "cell_type": "code",
   "execution_count": 20,
   "metadata": {},
   "outputs": [],
   "source": [
    "#Con alpha = 2\n",
    "theta, costs = gradiente(X, y, theta_init, 2, 400)"
   ]
  },
  {
   "cell_type": "code",
   "execution_count": 21,
   "metadata": {},
   "outputs": [
    {
     "data": {
      "image/png": "[encoded data removed]",
      "text/plain": [
       "<Figure size 720x576 with 1 Axes>"
      ]
     },
     "metadata": {
      "needs_background": "light"
     },
     "output_type": "display_data"
    }
   ],
   "source": [
    "f, ax = plt.subplots(figsize=(10, 8))\n",
    "plt.plot(costs, color=\"purple\")\n",
    "\n",
    "plt.xlabel(\"Iteraciones\")\n",
    "plt.ylabel(\"Valor de la función de coste\")\n",
    "plt.title(\"Gráfico 2: Valor de la función de coste en función del número de iteraciones\");"
   ]
  },
  {
   "cell_type": "markdown",
   "metadata": {},
   "source": [
    "Parece que, lógicamente, al aumentar el valor de alpha de 1 a 2, serían necesarias menos iteraciones para poder alcanzar el menor de valor de la función de coste."
   ]
  },
  {
   "cell_type": "markdown",
   "metadata": {},
   "source": [
    "# Referencias\n",
    "- https://es.qaz.wiki/wiki/Sigmoid_function\n",
    "- https://towardsdatascience.com/implement-gradient-descent-in-python-9b93ed7108d1\n",
    "- https://towardsdatascience.com/gradient-descent-in-python-a0d07285742f\n",
    "- https://towardsdatascience.com/andrew-ngs-machine-learning-course-in-python-logistic-regression-c0ae25509feb\n",
    "- https://gist.github.com/sagarmainkar/41d135a04d7d3bc4098f0664fe20cf3c\n",
    "- https://blog.paperspace.com/part-1-generic-python-implementation-of-gradient-descent-for-nn-optimization/\n",
    "- https://medium.com/metadatos/todo-lo-que-necesitas-saber-sobre-el-descenso-del-gradiente-aplicado-a-redes-neuronales-19bdbb706a78\n",
    "- https://seaborn.pydata.org/examples/different_scatter_variables.html\n",
    "- https://numpy.org/doc/stable/index.html"
   ]
  }
 ],
 "metadata": {
  "kernelspec": {
   "display_name": "gradiente",
   "language": "python",
   "name": "gradiente"
  },
  "language_info": {
   "codemirror_mode": {
    "name": "ipython",
    "version": 3
   },
   "file_extension": ".py",
   "mimetype": "text/x-python",
   "name": "python",
   "nbconvert_exporter": "python",
   "pygments_lexer": "ipython3",
   "version": "3.8.5"
  },
  "toc": {
   "base_numbering": 1,
   "nav_menu": {
    "height": "237px",
    "width": "296px"
   },
   "number_sections": false,
   "sideBar": true,
   "skip_h1_title": false,
   "title_cell": "Tabla de contenidos",
   "title_sidebar": "Contents",
   "toc_cell": true,
   "toc_position": {
    "height": "calc(100% - 180px)",
    "left": "10px",
    "top": "150px",
    "width": "165px"
   },
   "toc_section_display": true,
   "toc_window_display": true
  }
 },
 "nbformat": 4,
 "nbformat_minor": 4
}
